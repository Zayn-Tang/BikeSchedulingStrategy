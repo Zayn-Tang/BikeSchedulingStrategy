{
 "cells": [
  {
   "cell_type": "code",
   "execution_count": null,
   "metadata": {},
   "outputs": [],
   "source": [
    "import json\n",
    "import numpy as np\n",
    "import matplotlib.pyplot as plt\n",
    "import matplotlib.mlab as mlab\n",
    "import seaborn as sns\n",
    "from utils.InfoOf_bike_station import getInfoOfBike, getInfoOfStation, frequencyDateDicByStation\n",
    "from utils.Kmedoids import Kmedoids_main\n",
    "from utils.Scheduling import Scheduling\n",
    "from utils.Dynamic import Dynamic\n"
   ]
  },
  {
   "cell_type": "code",
   "execution_count": null,
   "metadata": {},
   "outputs": [],
   "source": [
    "# 调度实验所用的训练数据是纽约花旗自行车数据集\n",
    "Trainingset = [\n",
    "    \"./data/rowData/2014-05 - Citi Bike trip data.csv\",\n",
    "    \"./data/rowData/2014-06 - Citi Bike trip data.csv\",\n",
    "    ]\n",
    "Testset = [\n",
    "    \"./data/rowData/2014-17 - Citi Bike trip data.csv\"\n",
    "    ]\n",
    "\n",
    "# # 车辆信息：车辆编号、车辆所属车站、所属车站坐标、停靠时的时间戳、车辆总运行次数、车辆总运行时间、车辆寿命值\n",
    "# # {\"16052\": [\"284\", 40.7390169121, -74.0026376103, \"2013-11-28 09:02:04\", 352, 4335, 0.6465258610151772],...}\n",
    "InfoOfBike = {'16052': ['504', 40.73221853, -73.98165557, '2013/7/1  0:10:34', 0, 0, 0.0]}\n",
    "# # 车站信息：车站号、车站坐标、车站进量、车站出量、车站停靠车辆、当前可调度车辆、当前时间戳\n",
    "InfoOfStation = {'72': [40.76727216, -73.99392888, 0, 0, [], 0, '2013-07-01 00:00:00']}"
   ]
  },
  {
   "cell_type": "code",
   "execution_count": null,
   "metadata": {},
   "outputs": [],
   "source": [
    "for t in Trainingset:\n",
    "    InfoOfBike = getInfoOfBike(t, InfoOfBike)\n",
    "    InfoOfStation = getInfoOfStation(t, InfoOfStation, InfoOfBike)\n",
    "with open(\"./data/DataBase/InfoOfBike.json\", 'w') as json_file:\n",
    "    json.dump(InfoOfBike, json_file, ensure_ascii=False)\n",
    "with open(\"./data/DataBase/InfoOfStation.json\", 'w') as json_file:\n",
    "    json.dump(InfoOfStation, json_file, ensure_ascii=False)"
   ]
  },
  {
   "cell_type": "code",
   "execution_count": null,
   "metadata": {},
   "outputs": [],
   "source": [
    "# 统计车站的需求量（每天）\n",
    "frequencyDateDicByStation(Trainingset)"
   ]
  },
  {
   "cell_type": "code",
   "execution_count": null,
   "metadata": {},
   "outputs": [],
   "source": [
    "# 进行K-medoids聚类，目的是分治的思想，把一个大问题分解成好几个小问题解决\n",
    "with open(\"./data/DataBase/InfoOfStation.json\", 'r') as sif:\n",
    "    InfoOfStation = json.load(sif)\n",
    "best_SNO = Kmedoids_main(InfoOfStation)\n",
    "with open(\"./data/DataBase/KmediodsResult.json\", 'w') as json_file:\n",
    "    json.dump(best_SNO, json_file, ensure_ascii=False)"
   ]
  },
  {
   "cell_type": "code",
   "execution_count": null,
   "metadata": {},
   "outputs": [],
   "source": [
    "# 先进行一次调度，进行车站需求量归一化和车辆使用量归一化\n",
    "# 然后进行最大需求量分配最小使用量的标准进行调度，利用每个区域的车站value方差进行调度前后比较\n",
    "# 保存调度前后value信息，调度后车站车辆的信息更新\n",
    "# 只是进行一次调度，不改变车子的使用寿命\n",
    "with open(\"./data/DataBase/KmediodsResult.json\", 'r') as json_file:\n",
    "    Kmresult = json.load(json_file)\n",
    "with open(\"./data/DataBase/InfoOfStation.json\", 'r') as sif:\n",
    "    InfoOfStation = json.load(sif)\n",
    "with open(\"./data/DataBase/InfoOfBike.json\", 'r') as bif:\n",
    "    InfoOfBike = json.load(bif)\n",
    "\n",
    "sif_new, bif_new = Scheduling(InfoOfBike, InfoOfStation, Kmresult, 1)\n",
    "\n",
    "with open(\"./data/DataBase/new_InfoOfStation.json\", 'w') as nsif:\n",
    "    json.dump(sif_new, nsif, ensure_ascii=False)\n",
    "with open(\"./data/DataBase/new_InfoOfBike.json\", 'w') as nbif:\n",
    "    json.dump(bif_new, nbif, ensure_ascii=False)"
   ]
  },
  {
   "cell_type": "code",
   "execution_count": null,
   "metadata": {},
   "outputs": [],
   "source": [
    "# 1. 生成真实使用数据\n",
    "with open(\"./data/DataBase/InfoOfBike.json\", 'r') as bif:\n",
    "    InfoOfBike = json.load(bif)\n",
    "for t in Testset:\n",
    "    true_InfoOfBike = getInfoOfBike(t, InfoOfBike)\n",
    "with open(\"./data/DataBase/TrueBikeLife.json\", 'w') as json_file:\n",
    "    json.dump(true_InfoOfBike, json_file, ensure_ascii=False)"
   ]
  },
  {
   "cell_type": "code",
   "execution_count": null,
   "metadata": {},
   "outputs": [],
   "source": [
    "# 2. 生成 Random 调度数据\n",
    "with open(\"./data/DataBase/InfoOfBike.json\", 'r') as bif_new_file:\n",
    "    bif_new = json.load(bif_new_file)\n",
    "with open(\"./data/DataBase/InfoOfStation.json\", 'r') as sif_new_file:\n",
    "    sif_new = json.load(sif_new_file)\n",
    "\n",
    "for t in Testset:\n",
    "    sum_a = 0\n",
    "    sif_new, bif_new= Dynamic(t, bif_new, sif_new, method=\"Random\")\n",
    "    for b in bif_new:\n",
    "        if bif_new[b][6] != 0:\n",
    "            sum_a += bif_new[b][4]\n",
    "    print(\"Random调度: 这个月\", t,\"的使用总次数：\", sum_a)\n",
    "\n",
    "with open(\"./data/DataBase/RandomBikeLife.json\", 'w') as n8bif:\n",
    "    json.dump(bif_new, n8bif, ensure_ascii=False)\n",
    "\n"
   ]
  },
  {
   "cell_type": "code",
   "execution_count": null,
   "metadata": {},
   "outputs": [],
   "source": [
    "# 3. 生成 MinUpdate 调度数据\n",
    "with open(\"./data/DataBase/InfoOfBike.json\", 'r') as bif_new_file:\n",
    "    bif_new = json.load(bif_new_file)\n",
    "with open(\"./data/DataBase/InfoOfStation.json\", 'r') as sif_new_file:\n",
    "    sif_new = json.load(sif_new_file)\n",
    "\n",
    "for t in Testset:\n",
    "    sum_a = 0\n",
    "    sif_new, bif_new= Dynamic(t, bif_new, sif_new, method=\"MinUpdate\")\n",
    "    for b in bif_new:\n",
    "        if bif_new[b][6] != 0:\n",
    "            sum_a += bif_new[b][4]\n",
    "    print(\"MinUpdate调度: 这个月\", t,\"的使用总次数：\", sum_a)\n",
    "\n",
    "with open(\"./data/DataBase/MinUpdateBikeLife.json\", 'w') as n8bif:\n",
    "    json.dump(bif_new, n8bif, ensure_ascii=False)\n"
   ]
  },
  {
   "cell_type": "code",
   "execution_count": null,
   "metadata": {},
   "outputs": [],
   "source": [
    "# 原始数据和模拟数据对比图像\n",
    "with open(\"./data/DataBase/TrueBikeLife.json\", 'r') as bif_new_file:\n",
    "    true_bikelife = json.load(bif_new_file)\n",
    "with open(\"./data/DataBase/RandomBikeLife.json\", 'r') as bif_new_file:\n",
    "    Random_bikelife = json.load(bif_new_file)\n",
    "with open(\"./data/DataBase/MinUpdateBikeLife.json\", 'r') as bif_new_file:\n",
    "    MinUpdate_bikelife = json.load(bif_new_file)\n",
    "\n",
    "value_true = []\n",
    "for b in true_bikelife:\n",
    "    if true_bikelife[b][6] <= 0.99:\n",
    "        value_true.append(true_bikelife[b][6])\n",
    "\n",
    "value_Random = []\n",
    "for b in Random_bikelife:\n",
    "    if Random_bikelife[b][6] <= 0.99:\n",
    "        value_Random.append(Random_bikelife[b][6])\n",
    "\n",
    "value_MinUpdate = []\n",
    "for b in MinUpdate_bikelife:\n",
    "    if MinUpdate_bikelife[b][6] <=0.99:\n",
    "        value_MinUpdate.append(MinUpdate_bikelife[b][6])\n",
    "\n",
    "sns.set_style('darkgrid')\n",
    "plt.figure(figsize=(12,9), dpi= 80)\n",
    "sns.kdeplot(value_true, shade=True, label='Actual Life-value Choice')\n",
    "sns.kdeplot(value_Random, shade=True, label='Random Life-value Choice')\n",
    "sns.kdeplot(value_MinUpdate, shade=True, label='Max Life-value Choice')\n",
    "plt.legend(loc=\"upper left\", fontsize=14)\n",
    "plt.title('Bike Life-value Distribution Results', fontsize=14)\n",
    "\n",
    "plt.xticks(fontsize=14)\n",
    "plt.xlabel(\"Bike Life Time\", fontsize=14)\n",
    "plt.yticks(fontsize=14)\n",
    "plt.ylabel(\"Density\",fontsize=14)\n",
    "\n",
    "plt.savefig(\"./data/DataBase/BikeLifeDistribution.png\")\n",
    "plt.show()\n",
    "plt.close()\n",
    "\n"
   ]
  }
 ],
 "metadata": {
  "kernelspec": {
   "display_name": "PtCudaEnvs",
   "language": "python",
   "name": "python3"
  },
  "language_info": {
   "codemirror_mode": {
    "name": "ipython",
    "version": 3
   },
   "file_extension": ".py",
   "mimetype": "text/x-python",
   "name": "python",
   "nbconvert_exporter": "python",
   "pygments_lexer": "ipython3",
   "version": "3.8.16"
  }
 },
 "nbformat": 4,
 "nbformat_minor": 2
}
